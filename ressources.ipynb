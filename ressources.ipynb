{
 "cells": [
  {
   "cell_type": "markdown",
   "metadata": {},
   "source": [
    "## Node JS with Passport Authentication simplified\n",
    "https://medium.com/@prashantramnyc/node-js-with-passport-authentication-simplified-76ca65ee91e5"
   ]
  },
  {
   "cell_type": "markdown",
   "metadata": {},
   "source": [
    "## React Private Routes : \n",
    "\n",
    "https://www.scaler.com/topics/react/react-private-routes/"
   ]
  },
  {
   "cell_type": "markdown",
   "metadata": {},
   "source": [
    "## How to manage user authentication With React JS"
   ]
  },
  {
   "cell_type": "markdown",
   "metadata": {},
   "source": [
    "https://dev.to/miracool/how-to-manage-user-authentication-with-react-js-3ic5"
   ]
  },
  {
   "cell_type": "markdown",
   "metadata": {},
   "source": [
    "## process.env VS import.meta.env\n",
    "**The difference between process.env and import.meta.env primarily relates to the environments in which they are used, specifically between Node.js (backend) and modern frontend frameworks like Vite (client-side).**\n",
    "\n",
    "1. **process.env**\n",
    "\n",
    "**Environment**: This is used in Node.js environments.\n",
    "\n",
    "**Usage**: It accesses environment variables set in the server's environment, which are typically loaded from a .env file using a package like dotenv.\n",
    "\n",
    "**Example**:\n",
    "const API_URL = process.env.API_URL;\n",
    "\n",
    "**Access**: Variables accessed via process.env are available to any Node.js process, allowing for server-side configuration. You can use this in your backend code to keep sensitive data (like API keys) secure.\n",
    "\n",
    "\n",
    "2. **import.meta.env**\n",
    "**Environment**: This is specific to modern frontend tools like Vite and is used in client-side code.\n",
    "**Usage**: It provides access to environment variables defined in .env files, but they must be prefixed with VITE_ to be exposed to the client-side."
   ]
  },
  {
   "cell_type": "markdown",
   "metadata": {},
   "source": [
    "## usEffect VS useContext\n",
    "Use useEffect for localized, one-off authentication checks within a specific component.\n",
    "Use useContext for a shared authentication solution that multiple components can access and respond to."
   ]
  },
  {
   "cell_type": "markdown",
   "metadata": {},
   "source": [
    "I am facing a problem : I handle the login in my \"Login\" component, but the \"isAuthenticated\" state is in the parent \"App\". One solution is called \"Lifting State Up\" and consists in puttint the \"isAuthenticated\" state and the \"handleLogin\" function inside the parent (App) instead of the child (Login), so that the handleLogin function can access the \"isAuthenticated\" state and update it with setX(). You then pass the \"handleLogin\" function and (if necessary) the \"isAutehnticated\" state to the child component as props.\n",
    "\n",
    "A more efficient way to do it is to use \"useContext\" so that the \"isAuthenticated\" state is accessible globally by all the component that are provided the context."
   ]
  },
  {
   "cell_type": "markdown",
   "metadata": {},
   "source": [
    "## useContext - Steps"
   ]
  },
  {
   "cell_type": "markdown",
   "metadata": {},
   "source": [
    "1. Create Context\n",
    "```\n",
    "const MyContext = createContext();\n",
    "```\n",
    "\n",
    "2. Create a Custom Hook\n",
    "```\n",
    "const useMyContext = () => {\n",
    "    return useContext(MyContext);\n",
    "};\n",
    "```\n",
    "\n",
    "3. Create Provider Component:\n",
    "```\n",
    "const MyProvider = ({ children }) => {\n",
    "    const [state, setState] = useState(initialValue);\n",
    "    return (\n",
    "        <MyContext.Provider value={{ state, setState }}>\n",
    "            {children}\n",
    "        </MyContext.Provider>\n",
    "    );\n",
    "};\n",
    "```\n",
    "\n",
    "4. Wrap Your App with Provider\n",
    "```\n",
    "const App = () => (\n",
    "    <MyProvider>\n",
    "        <YourComponents />\n",
    "    </MyProvider>\n",
    ");\n",
    "```\n",
    "\n",
    "5. Use Context in Child Component\n",
    "```\n",
    "const ChildComponent = () => {\n",
    "    const { state, setState } = useContext(MyContext);\n",
    "    return <div>{state}</div>;\n",
    "};\n",
    "```\n",
    "\n",
    "6. Update State in Child Component:\n",
    "```\n",
    "const handleClick = () => {\n",
    "    setState(newValue);\n",
    "};\n",
    "```\n",
    "\n",
    "\n",
    "**Summary**\n",
    "Create a context.\n",
    "Build a provider.\n",
    "Wrap the app with the provider.\n",
    "Use useContext in child components."
   ]
  },
  {
   "cell_type": "markdown",
   "metadata": {},
   "source": [
    "## Protected Route"
   ]
  },
  {
   "cell_type": "markdown",
   "metadata": {},
   "source": [
    "What is it for ? \n",
    "\n",
    "##### **Encapsulation of Logic**\n",
    "Using the ProtectedRoute component encapsulates authentication logic. You avoid checking isAuthenticated in every route of your App component. Each protected route can independently decide whether to render the component or redirect.\n",
    "\n",
    "##### **Avoiding Prop Drilling**\n",
    "Wrapping your entire App with the AuthProvider gives all components access to the authentication context. This can include components that don’t need it, adding unnecessary complexity to state management.\n",
    "\n",
    "##### **Simplifying the App Component**\n",
    "The App component stays cleaner and focuses on route definitions. The ProtectedRoute component manages authentication checks, keeping the logic separate and straightforward."
   ]
  },
  {
   "cell_type": "markdown",
   "metadata": {},
   "source": [
    "<span style=\"color: red;\">Without **ProtectedRoute**: You would have to check isAuthenticated in every route definition, which could lead to more boilerplate code.</span>"
   ]
  },
  {
   "cell_type": "markdown",
   "metadata": {},
   "source": [
    "\n",
    "<span style=\"color: lightblue;\">In other words, I could verify inside the private /content page if the user \"isAuthenticated\" and redirect the user to the login page if not. But I can also handle this logic inside the ProtectedRoute component for more clarity and avoid redundance.</span>"
   ]
  },
  {
   "cell_type": "markdown",
   "metadata": {},
   "source": []
  }
 ],
 "metadata": {
  "language_info": {
   "name": "python"
  }
 },
 "nbformat": 4,
 "nbformat_minor": 2
}
